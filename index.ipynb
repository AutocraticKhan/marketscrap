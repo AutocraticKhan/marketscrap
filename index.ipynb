{
 "cells": [
  {
   "cell_type": "code",
   "execution_count": 1,
   "id": "8cedce4b",
   "metadata": {},
   "outputs": [],
   "source": [
    "url_base = 'https://www.marktplaats.nl/cp/91/auto-kopen/'\n",
    "#brand and model = ford and ranger and all\n",
    "one = 'https://www.marktplaats.nl/l/auto-s/ford/f/ranger/11671/'\n",
    "# BMW and gt as model and all\n",
    "two = 'https://www.marktplaats.nl/l/auto-s/bmw/f/3-serie-gt/10887/'\n",
    "# from price to price\n",
    "three = 'https://www.marktplaats.nl/l/auto-s/bmw/f/3-serie-gt/10887/#PriceCentsFrom:800000|PriceCentsTo:1750000'\n",
    "# now from and to model\n",
    "four = 'https://www.marktplaats.nl/l/auto-s/bmw/f/3-serie/610/#PriceCentsFrom:1000000|constructionYearFrom:2009|constructionYearTo:2014'\n",
    "#nexxt page \n",
    "five = 'https://www.marktplaats.nl/l/auto-s/bmw/f/3-serie/610/p/2/#PriceCentsFrom:1000000|constructionYearFrom:2009|constructionYearTo:2014'\n",
    "# sort new to old\n",
    "six = 'https://www.marktplaats.nl/l/auto-s/bmw/f/3-serie/610/#PriceCentsFrom:1000000|constructionYearFrom:2009|constructionYearTo:2014|sortBy:SORT_INDEX|sortOrder:DECREASING'\n",
    "seven = 'https://www.marktplaats.nl/l/auto-s/#sortBy:SORT_INDEX|sortOrder:DECREASING'"
   ]
  },
  {
   "cell_type": "code",
   "execution_count": 2,
   "id": "a77d3292",
   "metadata": {},
   "outputs": [],
   "source": [
    "import requests\n",
    "import time\n",
    "import pandas as pd\n",
    "from bs4 import BeautifulSoup\n",
    "from selenium import webdriver\n",
    "from selenium.webdriver.common.by import By\n",
    "from selenium.webdriver.support.ui import WebDriverWait\n",
    "from selenium.webdriver.support import expected_conditions as EC\n",
    "from selenium.webdriver.chrome.options import Options"
   ]
  },
  {
   "cell_type": "code",
   "execution_count": 3,
   "id": "3704a529",
   "metadata": {},
   "outputs": [],
   "source": [
    "\n",
    "def html_soup(webdriver,url):\n",
    "    #here we will add proxies\n",
    "    \n",
    "    \n",
    "    driver = webdriver.Edge()\n",
    "    driver.get(url)\n",
    "    # Allow time for the page to load (you may need to adjust the sleep duration)\n",
    "    time.sleep(5)\n",
    "\n",
    "    # Get the updated HTML content after JavaScript has executed\n",
    "    html_content = driver.page_source\n",
    "\n",
    "    # Close the WebDriver\n",
    "    driver.quit()\n",
    "\n",
    "    # Now you can use BeautifulSoup to parse the HTML as before\n",
    "    soup = BeautifulSoup(html_content, 'html.parser')\n",
    "    listings_ul = soup.find('ul', class_='hz-Listings hz-Listings--list-view')\n",
    "    li = listings_ul.find_all('li')\n",
    "    for i in range(len(li)):\n",
    "        try:\n",
    "            first_link = 'https://www.marktplaats.nl'+li[i].find('a')['href']\n",
    "            break\n",
    "        except:\n",
    "            continue\n",
    "    return first_link,soup"
   ]
  },
  {
   "cell_type": "code",
   "execution_count": 4,
   "id": "434de21b",
   "metadata": {},
   "outputs": [],
   "source": [
    "def page_soup(webdriver,url):\n",
    "    #here we will add proxies\n",
    "    \n",
    "    \n",
    "    driver = webdriver.Edge()\n",
    "    driver.get(url)\n",
    "    # Allow time for the page to load (you may need to adjust the sleep duration)\n",
    "    time.sleep(5)\n",
    "\n",
    "    # Get the updated HTML content after JavaScript has executed\n",
    "    html_content = driver.page_source\n",
    "\n",
    "    # Close the WebDriver\n",
    "#     driver.quit()\n",
    "\n",
    "    # Now you can use BeautifulSoup to parse the HTML as before\n",
    "    soup = BeautifulSoup(html_content, 'html.parser')\n",
    "   \n",
    "    return soup"
   ]
  },
  {
   "cell_type": "code",
   "execution_count": 11,
   "id": "e785facd",
   "metadata": {},
   "outputs": [],
   "source": [
    "criteria = pd.read_csv('criteria.csv')"
   ]
  },
  {
   "cell_type": "code",
   "execution_count": 12,
   "id": "fe6b3963",
   "metadata": {},
   "outputs": [
    {
     "data": {
      "text/html": [
       "<div>\n",
       "<style scoped>\n",
       "    .dataframe tbody tr th:only-of-type {\n",
       "        vertical-align: middle;\n",
       "    }\n",
       "\n",
       "    .dataframe tbody tr th {\n",
       "        vertical-align: top;\n",
       "    }\n",
       "\n",
       "    .dataframe thead th {\n",
       "        text-align: right;\n",
       "    }\n",
       "</style>\n",
       "<table border=\"1\" class=\"dataframe\">\n",
       "  <thead>\n",
       "    <tr style=\"text-align: right;\">\n",
       "      <th></th>\n",
       "      <th>id</th>\n",
       "      <th>website</th>\n",
       "      <th>brand</th>\n",
       "      <th>model</th>\n",
       "      <th>price_from</th>\n",
       "      <th>price_to</th>\n",
       "      <th>year_from</th>\n",
       "      <th>year_to</th>\n",
       "    </tr>\n",
       "  </thead>\n",
       "  <tbody>\n",
       "    <tr>\n",
       "      <th>0</th>\n",
       "      <td>1</td>\n",
       "      <td>www.marktplaats.nl</td>\n",
       "      <td>mercedes-benz</td>\n",
       "      <td>f/e-klasse/966/</td>\n",
       "      <td>1000</td>\n",
       "      <td>25000</td>\n",
       "      <td>2000</td>\n",
       "      <td>2021</td>\n",
       "    </tr>\n",
       "    <tr>\n",
       "      <th>1</th>\n",
       "      <td>2</td>\n",
       "      <td>www.marktplaats.nl</td>\n",
       "      <td>bmw</td>\n",
       "      <td>f/3-serie/610/</td>\n",
       "      <td>20001</td>\n",
       "      <td>25001</td>\n",
       "      <td>2001</td>\n",
       "      <td>2021</td>\n",
       "    </tr>\n",
       "  </tbody>\n",
       "</table>\n",
       "</div>"
      ],
      "text/plain": [
       "   id             website          brand            model  price_from  \\\n",
       "0   1  www.marktplaats.nl  mercedes-benz  f/e-klasse/966/        1000   \n",
       "1   2  www.marktplaats.nl            bmw   f/3-serie/610/       20001   \n",
       "\n",
       "   price_to  year_from  year_to  \n",
       "0     25000       2000     2021  \n",
       "1     25001       2001     2021  "
      ]
     },
     "execution_count": 12,
     "metadata": {},
     "output_type": "execute_result"
    }
   ],
   "source": [
    "criteria"
   ]
  },
  {
   "cell_type": "code",
   "execution_count": null,
   "id": "36b5eb94",
   "metadata": {},
   "outputs": [],
   "source": []
  },
  {
   "cell_type": "code",
   "execution_count": 17,
   "id": "b80931a2",
   "metadata": {},
   "outputs": [
    {
     "name": "stdout",
     "output_type": "stream",
     "text": [
      "https://www.marktplaats.nl/l/auto-s/mercedes-benz/f/e-klasse/966/#offeredSince:Vandaag|PriceCentsFrom:100000|PriceCentsTo:2500000|constructionYearFrom:2000|constructionYearTo:2021|sortBy:SORT_INDEX|sortOrder:DECREASING\n"
     ]
    }
   ],
   "source": [
    "for row in range(criteria.shape[0]):\n",
    "    id_ = criteria.iloc[row, 0]\n",
    "    website = criteria.iloc[row, 1]\n",
    "    brand = criteria.iloc[row, 2]\n",
    "    model = criteria.iloc[row, 3]\n",
    "    price_from = criteria.iloc[row, 4]\n",
    "    price_to = criteria.iloc[row, 5]\n",
    "    year_from = criteria.iloc[row, 6]\n",
    "    year_to = criteria.iloc[row, 7]\n",
    "    #custom url creation\n",
    "    url = f'https://{website}/l/auto-s/{brand}/{model}#offeredSince:Vandaag|PriceCentsFrom:{price_from}00|PriceCentsTo:{price_to}00|constructionYearFrom:{year_from}|constructionYearTo:{year_to}|sortBy:SORT_INDEX|sortOrder:DECREASING'\n",
    "    print(url)\n",
    "    #calling for first url\n",
    "#     print(html_soup(webdriver,url)[0])\n",
    "    break\n",
    " \n"
   ]
  },
  {
   "cell_type": "code",
   "execution_count": 25,
   "id": "a51532ff",
   "metadata": {},
   "outputs": [
    {
     "data": {
      "text/plain": [
       "'0513-78 84 25'"
      ]
     },
     "execution_count": 25,
     "metadata": {},
     "output_type": "execute_result"
    }
   ],
   "source": [
    "url = 'https://www.marktplaats.nl/v/auto-s/bmw/m2041415069-bmw-5-serie-touring-520d-high-executive-luxury-aut-led-le'\n",
    "driver = webdriver.Edge()\n",
    "driver.get(url)\n",
    "time.sleep(5)\n",
    "\n",
    "# Get the updated HTML content after JavaScript has executed\n",
    "html_content = driver.page_source\n",
    "\n",
    "# Close the WebDriver\n",
    "#     driver.quit()\n",
    "\n",
    "# Now you can use BeautifulSoup to parse the HTML as before\n",
    "soup = BeautifulSoup(html_content, 'html.parser')\n",
    "show_number_button = driver.find_element(By.XPATH, '//*[@id=\"seller-sidebar-root\"]/div[2]/button[2]')\n",
    "show_number_button.click()\n",
    "# html_content2 = driver.page_source\n",
    "time.sleep(5)\n",
    "popup_data = driver.find_element(By.XPATH, '/html/body/div[6]/div/div/div[2]/div[3]').text\n",
    "popup_data"
   ]
  },
  {
   "cell_type": "code",
   "execution_count": null,
   "id": "e93baff4",
   "metadata": {},
   "outputs": [],
   "source": [
    "\n"
   ]
  },
  {
   "cell_type": "code",
   "execution_count": null,
   "id": "8e3b18c9",
   "metadata": {},
   "outputs": [],
   "source": []
  },
  {
   "cell_type": "code",
   "execution_count": null,
   "id": "03185315",
   "metadata": {},
   "outputs": [],
   "source": []
  },
  {
   "cell_type": "code",
   "execution_count": null,
   "id": "18fcb992",
   "metadata": {},
   "outputs": [],
   "source": []
  },
  {
   "cell_type": "code",
   "execution_count": null,
   "id": "ada4c279",
   "metadata": {},
   "outputs": [],
   "source": []
  },
  {
   "cell_type": "code",
   "execution_count": null,
   "id": "c114f1d3",
   "metadata": {},
   "outputs": [],
   "source": []
  },
  {
   "cell_type": "code",
   "execution_count": null,
   "id": "2ee11c05",
   "metadata": {},
   "outputs": [],
   "source": []
  },
  {
   "cell_type": "code",
   "execution_count": 81,
   "id": "b233648b",
   "metadata": {},
   "outputs": [],
   "source": [
    "\n"
   ]
  },
  {
   "cell_type": "code",
   "execution_count": 2,
   "id": "805bc47f",
   "metadata": {},
   "outputs": [],
   "source": [
    "url = 'https://www.marktplaats.nl/v/auto-s/bmw/m2041415069-bmw-5-serie-touring-520d-high-executive-luxury-aut-led-le'\n",
    "response = requests.get(url)"
   ]
  },
  {
   "cell_type": "code",
   "execution_count": 3,
   "id": "27124672",
   "metadata": {},
   "outputs": [
    {
     "name": "stdout",
     "output_type": "stream",
     "text": [
      "Beschrijving\n"
     ]
    }
   ],
   "source": [
    "if response.status_code == 200:\n",
    "    # Parse the HTML content of the page\n",
    "    soup = BeautifulSoup(response.text, 'html.parser')\n",
    "\n",
    "    # Replace 'your_element' with the HTML element containing the data you want to scrape\n",
    "    # For example, if you want to scrape titles inside <h2> tags, use soup.find_all('h2')\n",
    "    titles = soup.find_all('h2')\n",
    "\n",
    "    # Extract and print the text content of each title\n",
    "    for title in titles:\n",
    "        print(title.text)\n",
    "else:\n",
    "    print(f\"Failed to retrieve the page. Status code: {response.status_code}\")"
   ]
  },
  {
   "cell_type": "code",
   "execution_count": 4,
   "id": "eed4f30c",
   "metadata": {},
   "outputs": [],
   "source": [
    "title = soup.find('h1', class_='Listing-title').text"
   ]
  },
  {
   "cell_type": "code",
   "execution_count": 5,
   "id": "5775b517",
   "metadata": {},
   "outputs": [
    {
     "data": {
      "text/plain": [
       "'BMW 5 Serie TOURING 520d High Executive Luxury Aut. [ LED Le'"
      ]
     },
     "execution_count": 5,
     "metadata": {},
     "output_type": "execute_result"
    }
   ],
   "source": [
    "title"
   ]
  },
  {
   "cell_type": "code",
   "execution_count": 11,
   "id": "6789a4b8",
   "metadata": {},
   "outputs": [],
   "source": [
    "# Find the meta tag with the property attribute 'og:image'\n",
    "meta_tag = soup.find('meta', property='og:image')\n",
    "\n",
    "# Extract the content attribute, which contains the hyperlink\n",
    "hyperlink = meta_tag.get('content')"
   ]
  },
  {
   "cell_type": "code",
   "execution_count": 12,
   "id": "bca2c2c6",
   "metadata": {},
   "outputs": [
    {
     "data": {
      "text/plain": [
       "'https://images.marktplaats.com/api/v1/listing-mp-p/images/94/94b240e5-7b53-41dc-b054-2cce4599ba96?rule=ecg_mp_eps$_83'"
      ]
     },
     "execution_count": 12,
     "metadata": {},
     "output_type": "execute_result"
    }
   ],
   "source": [
    "hyperlink"
   ]
  },
  {
   "cell_type": "code",
   "execution_count": 14,
   "id": "0f22ab67",
   "metadata": {},
   "outputs": [
    {
     "data": {
      "text/plain": [
       "'€ 22.945,-'"
      ]
     },
     "execution_count": 14,
     "metadata": {},
     "output_type": "execute_result"
    }
   ],
   "source": [
    "price = soup.find('div', class_='Listing-price').text.replace('\\xa0',' ')\n",
    "price"
   ]
  },
  {
   "cell_type": "code",
   "execution_count": 15,
   "id": "1bebab31",
   "metadata": {},
   "outputs": [
    {
     "data": {
      "text/plain": [
       "'Vaartland'"
      ]
     },
     "execution_count": 15,
     "metadata": {},
     "output_type": "execute_result"
    }
   ],
   "source": [
    "name = soup.find('span', class_='SellerInfo-name').text\n",
    "name"
   ]
  },
  {
   "cell_type": "code",
   "execution_count": 16,
   "id": "1e966d4a",
   "metadata": {},
   "outputs": [
    {
     "data": {
      "text/plain": [
       "'Heerenveen'"
      ]
     },
     "execution_count": 16,
     "metadata": {},
     "output_type": "execute_result"
    }
   ],
   "source": [
    "address = soup.find('div', class_='SellerInfo-rowWithIcon').text\n",
    "address"
   ]
  },
  {
   "cell_type": "code",
   "execution_count": 18,
   "id": "ec761611",
   "metadata": {},
   "outputs": [
    {
     "data": {
      "text/plain": [
       "'Ben je op zoek naar een mooie Bmw 5-serie uit 2017 met opties zoals Luxuryline pakket, Lederen bekleding en Ambiente verlichting. Deze 5-serie is door ons aangekocht van eerste eigenaar met een tellerstand...Algemene informatieAantal deuren: 5Kleur: SCHWARZ 2Technische informatieVermogen: 140 kW (190 PK)Aantal cilinders: 4Transmissie: 8 versnellingen, AutomaatMatenWielbasis: 292 cmGewichtenLedig gewicht: 1.635 kgLaadvermogen: 2.390 kgGVW: 2.390 kgMax. trekgewicht: 2.000 kgInterieurAantal zitplaatsen: 5MilieuCO₂-uitstoot: 114 kgFijnstofuitstoot: 0 mg/kmHistorieOnderhoudsboekjes: Aanwezig (dealer onderhouden)Financiële informatieBTW/Marge: incl. BTW (de BTW, ca. € 3.565, is verrekenbaar voor ondernemers)Motorrijtuigenbelasting: € 475 - € 507 per kwartaalOpties en accessoiresABSAirbagsAircoAmbienteverlichtingAudiobediening op het stuurAutomaatAutomatisch dimmende buitenspiegelsBluetooth aansluitingBoordcomputerBumpers/spiegels in kleurCentrale vergrendeling met afstandsbedieningClimate controlCruise controlDakrailingDealeronderhoudenDigitaal dashboardElektrische achterklepElektrische ramen voor en achterElektrisch verstelbare spiegelsESPIsofixLED achterlichtenLED dagrijverlichtingLederen bekledingLederen dashboardLederen stuur en pookLED koplampenLicht metalen velgenLichtsensorMetallic lakMidden armsteunMistlampenMulti functioneel stuurwielMultimedia-voorbereidingNavigatiesysteemNeerklapbare achterbankParkeersensoren voor en achterPrivacy glasRadio/CD/MP3 spelerRegensensorSide airbagsSpiegelverwarmingStart/Stop systeemStartonderbrekerStuurbekrachtigingStuur verstelbaarTelefoonvoorbereidingTiptronicTraction controlXenon verlichtingBijzonderhedenBen je op zoek naar een mooie Bmw 5-serie uit 2017 met opties zoals Luxuryline pakket, Lederen bekleding en Ambiente verlichting. Deze 5-serie is door ons aangekocht van eerste eigenaar met een tellerstand van 181.218. De tellerstand is logisch verklaarbaar en de auto is dan ook voorzien van een NAP tellerrapport. Op onze website vind je het Nationaal Autorapport. Hier staat ook het aantal eigenaren in en een checklist van maar liefst 55 technische en 40 optische punten waar de auto op gecontroleerd is. De Bmw 5-serie heeft een diesel motor met een maximum vermogen van 140KW (191 PK) en haalt hiermee een gemiddeld gebruik van 4.30L op 100Km.Wij zijn telefonisch bereikbaar op de volgende tijden:- Maandag tm Vrijdag: 08:00 t/m 22:00- Zaterdag: 08:00 t/m 17:00- Zondag: geslotenVia telefoonnummer: 0182716409Je kunt ook contact met ons opnemen via Whatsapp. Whatsappnummer: 0182-748576 (bellen via whatsapp op dit nummer is niet mogelijk)Onze vestigingen zijn geopend! Al onze vestigingen zijn weer geopend. Wil je de beste service? Plan dan een afspraak in, wij zorgen er dan voor dat we speciaal voor jou klaar staan.Een proefrit maken? Wil je een proefrit maken, dan kan dat op afspraak. Neem hiervoor contact met ons op of kijk op https://www.vaartland.nl/proefrit-maken voor meer informatie en de voorwaarden. Voor de actuele locatie van de auto kijk op www.vaartland.nl.Waarom kiezen voor deze Bmw 5-serie:- Luxuryline pakket- Lederen bekleding- Ambiente verlichting- NAP gecontroleerd- Eerste eigenaar- Onderhoudsgeschiedenis beschikbaar- Voorzien van een Nationaal AutorapportAlle moeite is genomen om de informatie in deze advertentie zo accuraat en actueel mogelijk weer te geven. Er kunnen echter uitdrukkelijk geen rechten worden ontleend aan de verstrekte informatie in de advertentie. Vertrouw daarom niet alleen op deze informatie en controleer daarom bij aankoop de zaken die uw beslissing zouden kunnen beïnvloeden.Websitewww.vaartland.nl/occasion/bmw/5-serie/touring-520d-high-executive-luxury-aut-5/pr-608-r'"
      ]
     },
     "execution_count": 18,
     "metadata": {},
     "output_type": "execute_result"
    }
   ],
   "source": [
    "descrip = soup.find('div', class_='Description-description').text.replace('\\xa0',' ')\n",
    "descrip"
   ]
  },
  {
   "cell_type": "code",
   "execution_count": 24,
   "id": "542eee56",
   "metadata": {},
   "outputs": [
    {
     "data": {
      "text/plain": [
       "'Ben je op zoek naar een mooie Bmw 5-serie uit 2017 met opties zoals Luxuryline pakket, Lederen bekleding en Ambiente verlichting. Deze 5-serie is door ...'"
      ]
     },
     "execution_count": 24,
     "metadata": {},
     "output_type": "execute_result"
    }
   ],
   "source": [
    "descrip[:150]+' ...'"
   ]
  },
  {
   "cell_type": "code",
   "execution_count": null,
   "id": "634bdc78",
   "metadata": {},
   "outputs": [],
   "source": []
  },
  {
   "cell_type": "code",
   "execution_count": null,
   "id": "6b9bd420",
   "metadata": {},
   "outputs": [],
   "source": []
  },
  {
   "cell_type": "code",
   "execution_count": null,
   "id": "2e78c06c",
   "metadata": {},
   "outputs": [],
   "source": []
  }
 ],
 "metadata": {
  "kernelspec": {
   "display_name": "Python 3 (ipykernel)",
   "language": "python",
   "name": "python3"
  },
  "language_info": {
   "codemirror_mode": {
    "name": "ipython",
    "version": 3
   },
   "file_extension": ".py",
   "mimetype": "text/x-python",
   "name": "python",
   "nbconvert_exporter": "python",
   "pygments_lexer": "ipython3",
   "version": "3.10.12"
  }
 },
 "nbformat": 4,
 "nbformat_minor": 5
}
