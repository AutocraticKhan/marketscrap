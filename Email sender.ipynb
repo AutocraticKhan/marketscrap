{
 "cells": [
  {
   "cell_type": "code",
   "execution_count": 1,
   "id": "1e1101f1",
   "metadata": {},
   "outputs": [],
   "source": [
    "import pandas as pd\n",
    "import yaml\n",
    "import smtplib\n",
    "import ssl\n",
    "from email.message import EmailMessage"
   ]
  },
  {
   "cell_type": "code",
   "execution_count": 2,
   "id": "df8caa39",
   "metadata": {},
   "outputs": [],
   "source": [
    "users = pd.read_csv('users.csv')\n",
    "with open('config.yml', 'r') as file:\n",
    "    data = yaml.safe_load(file)"
   ]
  },
  {
   "cell_type": "code",
   "execution_count": 3,
   "id": "c6bc773c",
   "metadata": {},
   "outputs": [
    {
     "data": {
      "text/html": [
       "<div>\n",
       "<style scoped>\n",
       "    .dataframe tbody tr th:only-of-type {\n",
       "        vertical-align: middle;\n",
       "    }\n",
       "\n",
       "    .dataframe tbody tr th {\n",
       "        vertical-align: top;\n",
       "    }\n",
       "\n",
       "    .dataframe thead th {\n",
       "        text-align: right;\n",
       "    }\n",
       "</style>\n",
       "<table border=\"1\" class=\"dataframe\">\n",
       "  <thead>\n",
       "    <tr style=\"text-align: right;\">\n",
       "      <th></th>\n",
       "      <th>criteria_id</th>\n",
       "      <th>email</th>\n",
       "      <th>number</th>\n",
       "    </tr>\n",
       "  </thead>\n",
       "  <tbody>\n",
       "    <tr>\n",
       "      <th>0</th>\n",
       "      <td>1</td>\n",
       "      <td>autocratic.jalal@gmail.com</td>\n",
       "      <td>923345421915</td>\n",
       "    </tr>\n",
       "    <tr>\n",
       "      <th>1</th>\n",
       "      <td>1</td>\n",
       "      <td>autocratic_jalal@yahoo.com</td>\n",
       "      <td>923406090589</td>\n",
       "    </tr>\n",
       "  </tbody>\n",
       "</table>\n",
       "</div>"
      ],
      "text/plain": [
       "   criteria_id                       email        number\n",
       "0            1  autocratic.jalal@gmail.com  923345421915\n",
       "1            1  autocratic_jalal@yahoo.com  923406090589"
      ]
     },
     "execution_count": 3,
     "metadata": {},
     "output_type": "execute_result"
    }
   ],
   "source": [
    "users"
   ]
  },
  {
   "cell_type": "code",
   "execution_count": 17,
   "id": "6fbb239f",
   "metadata": {},
   "outputs": [
    {
     "name": "stdout",
     "output_type": "stream",
     "text": [
      "finished\n"
     ]
    }
   ],
   "source": [
    "for row in range(users.shape[0]):\n",
    "    id_ = users.iloc[row, 0]\n",
    "    email_r = users.iloc[row, 1]\n",
    "    number = users.iloc[row, 2]\n",
    "    \n",
    "    \n",
    "    email_sender = data['email']\n",
    "    email_password = data['pas']\n",
    "    email_receiver = email_r\n",
    "    subject = 'Check out my new video!'\n",
    "    body = f'an email from pthon test... {subject}'\n",
    "    em = EmailMessage()\n",
    "    em['From'] = email_sender\n",
    "    em['To'] = email_receiver\n",
    "    em['Subject'] = subject\n",
    "    em.set_content(body)\n",
    "\n",
    "    # Add SSL (layer of security)\n",
    "    context = ssl.create_default_context()\n",
    "    # Log in and send the email\n",
    "    with smtplib.SMTP_SSL('smtp.gmail.com', 465, context=context) as smtp:\n",
    "        smtp.login(email_sender, email_password)\n",
    "        smtp.sendmail(email_sender, email_receiver, em.as_string())\n",
    "    \n",
    "    \n",
    "    print('finished')\n",
    "    break\n"
   ]
  },
  {
   "cell_type": "code",
   "execution_count": 12,
   "id": "c65e40aa",
   "metadata": {},
   "outputs": [
    {
     "name": "stdout",
     "output_type": "stream",
     "text": [
      "{'email': 'autocratic.jalal@gmail.com', 'pas': 'zteq hzrg gkpp kyjd'}\n"
     ]
    }
   ],
   "source": [
    "\n",
    "\n",
    "# Now, 'data' is a dictionary with the content of your YAML file\n",
    "print(data)"
   ]
  },
  {
   "cell_type": "code",
   "execution_count": 3,
   "id": "3ceffd76",
   "metadata": {},
   "outputs": [],
   "source": [
    "import smtplib\n",
    "import ssl\n",
    "from email.mime.multipart import MIMEMultipart\n",
    "from email.mime.text import MIMEText\n",
    "from email.mime.image import MIMEImage\n",
    "import pandas as pd\n",
    "import requests\n",
    "\n"
   ]
  },
  {
   "cell_type": "code",
   "execution_count": null,
   "id": "3febd639",
   "metadata": {},
   "outputs": [],
   "source": []
  },
  {
   "cell_type": "code",
   "execution_count": null,
   "id": "cfdda86a",
   "metadata": {},
   "outputs": [],
   "source": []
  },
  {
   "cell_type": "code",
   "execution_count": 12,
   "id": "0814cafc",
   "metadata": {},
   "outputs": [
    {
     "name": "stdout",
     "output_type": "stream",
     "text": [
      "finished\n"
     ]
    }
   ],
   "source": [
    "# Assuming 'users' and 'data' are defined elsewhere in your code\n",
    "\n",
    "for row in range(users.shape[0]):\n",
    "    id_ = users.iloc[row, 0]\n",
    "    email_r = users.iloc[row, 1]\n",
    "    number = users.iloc[row, 2]\n",
    "\n",
    "    email_sender = data['email']\n",
    "    email_password = data['pas']\n",
    "    email_receiver = email_r\n",
    "    subject = 'Check out my new video!'\n",
    "    body = f'an email from python test... {subject}'\n",
    "\n",
    "    em = MIMEMultipart()\n",
    "    em['From'] = email_sender\n",
    "    em['To'] = email_receiver\n",
    "    em['Subject'] = subject\n",
    "    em.attach(MIMEText(body, 'plain'))\n",
    "\n",
    "    # Add image from URL\n",
    "    image_url = 'https://images.marktplaats.com/api/v1/listing-mp-p/images/94/94b240e5-7b53-41dc-b054-2cce4599ba96?rule=ecg_mp_eps$_83'  # Replace with your image URL\n",
    "    image_data = requests.get(image_url).content\n",
    "    \n",
    "    \n",
    "    image = MIMEImage(image_data, _subtype='webp', name='94b240e5-7b53-41dc-b054-2cce4599ba96.webp')\n",
    "\n",
    "    em.attach(image)\n",
    "\n",
    "    # Add SSL (layer of security)\n",
    "    context = ssl.create_default_context()\n",
    "\n",
    "    # Log in and send the email\n",
    "    with smtplib.SMTP_SSL('smtp.gmail.com', 465, context=context) as smtp:\n",
    "        smtp.login(email_sender, email_password)\n",
    "        smtp.sendmail(email_sender, email_receiver, em.as_string())\n",
    "\n",
    "    print('finished')\n",
    "    break\n"
   ]
  },
  {
   "cell_type": "code",
   "execution_count": 16,
   "id": "c8e87330",
   "metadata": {},
   "outputs": [
    {
     "name": "stdout",
     "output_type": "stream",
     "text": [
      "finished\n"
     ]
    }
   ],
   "source": [
    "from email.mime.multipart import MIMEMultipart\n",
    "from email.mime.text import MIMEText\n",
    "from email.mime.image import MIMEImage\n",
    "from email.utils import make_msgid\n",
    "\n",
    "# Assuming 'users' and 'data' are defined elsewhere in your code\n",
    "\n",
    "for row in range(users.shape[0]):\n",
    "    id_ = users.iloc[row, 0]\n",
    "    email_r = users.iloc[row, 1]\n",
    "    number = users.iloc[row, 2]\n",
    "\n",
    "    email_sender = data['email']\n",
    "    email_password = data['pas']\n",
    "    email_receiver = email_r\n",
    "    subject = 'Check out my new dzcvideo!'\n",
    "    body = f'an email from python test... {subject}'\n",
    "\n",
    "    # Create a MIMEMultipart object with subtype 'related'\n",
    "    em = MIMEMultipart('related')\n",
    "    em['From'] = email_sender\n",
    "    em['To'] = email_receiver\n",
    "    em['Subject'] = subject\n",
    "\n",
    "    # Create a MIMEText object with the HTML content of the email\n",
    "    msgText = MIMEText('<b>%s</b><br/><img src=\"cid:%s\"/><br/>' % (body, make_msgid()), 'html')\n",
    "    em.attach(msgText)\n",
    "\n",
    "    # Add image from URL\n",
    "    image_url = 'https://images.marktplaats.com/api/v1/listing-mp-p/images/94/94b240e5-7b53-41dc-b054-2cce4599ba96?rule=ecg_mp_eps$_83' # Replace with your image URL\n",
    "    image_data = requests.get(image_url).content\n",
    "\n",
    "    # Create a MIMEImage object with the image data\n",
    "    image = MIMEImage(image_data, _subtype='webp', name='94b240e5-7b53-41dc-b054-2cce4599ba96.webp')\n",
    "    image.add_header('Content-ID', make_msgid())\n",
    "    em.attach(image)\n",
    "\n",
    "    # Add SSL (layer of security)\n",
    "    context = ssl.create_default_context()\n",
    "\n",
    "    # Log in and send the email\n",
    "    with smtplib.SMTP_SSL('smtp.gmail.com', 465, context=context) as smtp:\n",
    "        smtp.login(email_sender, email_password)\n",
    "        smtp.sendmail(email_sender, email_receiver, em.as_string())\n",
    "\n",
    "    print('finished')\n",
    "    break\n"
   ]
  },
  {
   "cell_type": "code",
   "execution_count": null,
   "id": "56f935d5",
   "metadata": {},
   "outputs": [],
   "source": []
  }
 ],
 "metadata": {
  "kernelspec": {
   "display_name": "Python 3 (ipykernel)",
   "language": "python",
   "name": "python3"
  },
  "language_info": {
   "codemirror_mode": {
    "name": "ipython",
    "version": 3
   },
   "file_extension": ".py",
   "mimetype": "text/x-python",
   "name": "python",
   "nbconvert_exporter": "python",
   "pygments_lexer": "ipython3",
   "version": "3.10.12"
  }
 },
 "nbformat": 4,
 "nbformat_minor": 5
}
