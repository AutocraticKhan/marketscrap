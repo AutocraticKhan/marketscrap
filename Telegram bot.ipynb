{
 "cells": [
  {
   "cell_type": "code",
   "execution_count": 1,
   "id": "4b63f1ef",
   "metadata": {},
   "outputs": [],
   "source": [
    "import requests\n",
    "import pandas as pd\n",
    "import yaml"
   ]
  },
  {
   "cell_type": "code",
   "execution_count": 2,
   "id": "6bb0c17e",
   "metadata": {},
   "outputs": [],
   "source": [
    "users = pd.read_csv('users.csv')\n",
    "with open('config.yml', 'r') as file:\n",
    "    data = yaml.safe_load(file)"
   ]
  },
  {
   "cell_type": "code",
   "execution_count": 3,
   "id": "1c9e5bef",
   "metadata": {},
   "outputs": [
    {
     "name": "stdout",
     "output_type": "stream",
     "text": [
      "6926680837\n"
     ]
    }
   ],
   "source": [
    "http_api = data['http_api']\n",
    "chat_id = str(users.iloc[0, 2])\n",
    "print(chat_id)"
   ]
  },
  {
   "cell_type": "code",
   "execution_count": 6,
   "id": "94a10080",
   "metadata": {},
   "outputs": [],
   "source": [
    "chat_id = '6926680837'\n",
    "http_api = '6738419856:AAHA0XXZij10vAymnZSHQDQzJDlctRUcYck'\n",
    "send_message = f'https://api.telegram.org/bot{http_api}/sendMessage?chat_id={chat_id}&text=hello Jalal \\n **kamal** \\n bilal'\n",
    "pic_url = 'https://images.marktplaats.com/api/v1/listing-mp-p/images/94/94b240e5-7b53-41dc-b054-2cce4599ba96?rule=ecg_mp_eps$_83'"
   ]
  },
  {
   "cell_type": "code",
   "execution_count": 7,
   "id": "cbbe0d49",
   "metadata": {},
   "outputs": [
    {
     "data": {
      "text/plain": [
       "<Response [200]>"
      ]
     },
     "execution_count": 7,
     "metadata": {},
     "output_type": "execute_result"
    }
   ],
   "source": [
    "requests.get(send_message)"
   ]
  },
  {
   "cell_type": "code",
   "execution_count": 14,
   "id": "e8e2d709",
   "metadata": {},
   "outputs": [],
   "source": [
    "def telegram_bot(requests,pic_url,http_api,chat_id):\n",
    "    response = requests.get(pic_url)\n",
    "    img = response.content\n",
    "\n",
    "    # Prepare the file for sending\n",
    "    file = {'photo': ('image.webp', img)}\n",
    "\n",
    "    # Send the POST request\n",
    "    to_url = f'https://api.telegram.org/bot{http_api}/sendPhoto?chat_id={chat_id}&caption=Title \\n jalal'\n",
    "    requests.post(to_url, files=file)"
   ]
  },
  {
   "cell_type": "code",
   "execution_count": 15,
   "id": "fbaeabd0",
   "metadata": {},
   "outputs": [],
   "source": [
    "telegram_bot(requests,pic_url,http_api,chat_id)"
   ]
  },
  {
   "cell_type": "code",
   "execution_count": 8,
   "id": "7809780b",
   "metadata": {},
   "outputs": [
    {
     "data": {
      "text/plain": [
       "<Response [200]>"
      ]
     },
     "execution_count": 8,
     "metadata": {},
     "output_type": "execute_result"
    }
   ],
   "source": [
    "send_message = f'https://api.telegram.org/bot{http_api}/sendMessage?chat_id={chat_id}&text=hello Jalal \\n <b>kamal</b> \\n bilal&parse_mode=HTML'\n",
    "requests.get(send_message)\n"
   ]
  },
  {
   "cell_type": "code",
   "execution_count": null,
   "id": "3cb91058",
   "metadata": {},
   "outputs": [],
   "source": []
  },
  {
   "cell_type": "code",
   "execution_count": 11,
   "id": "96f6ba9a",
   "metadata": {},
   "outputs": [],
   "source": [
    "def telegram_bot(requests, pic_url, http_api, chat_id,message):\n",
    "    response = requests.get(pic_url)\n",
    "    img = response.content\n",
    "\n",
    "    # Prepare the file for sending\n",
    "    file = {'photo': ('image.webp', img)}\n",
    "\n",
    "    #  Send the POST request\n",
    "    to_url = f'https://api.telegram.org/bot{http_api}/sendPhoto?chat_id={chat_id}&caption={message}&parse_mode=HTML'\n",
    "    requests.post(to_url, files=file)\n",
    "    \n",
    "name = 'jalal'\n",
    "phone = '213'\n",
    "price =' 21'\n",
    "descrip = 'descriptionbm '\n",
    "address = 'addressd here'\n",
    "link_to_open = 'sdfdsf'\n",
    "message = f'<b>Description:</b> {descrip}\\n<b>Name:</b> {name}\\n<b>Phone:</b> {phone}\\n<b>Price:</b> {price}\\n<b>Address:</b> {address}\\n<b>Link to post:</b> {link_to_open}'\n",
    "telegram_bot(requests, pic_url, http_api, chat_id,message)\n"
   ]
  },
  {
   "cell_type": "code",
   "execution_count": null,
   "id": "d6bf9d50",
   "metadata": {},
   "outputs": [],
   "source": [
    "desc\n",
    "nam\n",
    "pho\n",
    "price\n",
    "address\n",
    "post\n"
   ]
  },
  {
   "cell_type": "code",
   "execution_count": null,
   "id": "c6069d0a",
   "metadata": {},
   "outputs": [],
   "source": [
    "message = f'<b>Description:</b> {descrip}\\n<b>Name:</b> {name}\\n<b>Phone:</b> {phone}\\n<b>Price:</b> {price}\\n<b>Address:</b> {address}\\n<b>Link to post:</b> {link_to_open}'"
   ]
  },
  {
   "cell_type": "code",
   "execution_count": null,
   "id": "df0701a9",
   "metadata": {},
   "outputs": [],
   "source": []
  }
 ],
 "metadata": {
  "kernelspec": {
   "display_name": "Python 3 (ipykernel)",
   "language": "python",
   "name": "python3"
  },
  "language_info": {
   "codemirror_mode": {
    "name": "ipython",
    "version": 3
   },
   "file_extension": ".py",
   "mimetype": "text/x-python",
   "name": "python",
   "nbconvert_exporter": "python",
   "pygments_lexer": "ipython3",
   "version": "3.10.12"
  }
 },
 "nbformat": 4,
 "nbformat_minor": 5
}
