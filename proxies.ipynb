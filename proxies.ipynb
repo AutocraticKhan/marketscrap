{
 "cells": [
  {
   "cell_type": "code",
   "execution_count": 1,
   "id": "ca800ba3",
   "metadata": {},
   "outputs": [],
   "source": [
    "import requests\n",
    "import time\n",
    "import random\n",
    "import pandas as pd\n",
    "from bs4 import BeautifulSoup\n",
    "from selenium import webdriver\n",
    "from selenium.webdriver.common.by import By\n",
    "from selenium.webdriver.support.ui import WebDriverWait\n",
    "from selenium.webdriver.support import expected_conditions as EC\n",
    "from selenium.webdriver.chrome.options import Options"
   ]
  },
  {
   "cell_type": "code",
   "execution_count": 2,
   "id": "462384dc",
   "metadata": {},
   "outputs": [],
   "source": [
    "criteria = pd.read_csv('criteria.csv')\n",
    "proxies_df = pd.read_csv('proxy.csv')"
   ]
  },
  {
   "cell_type": "code",
   "execution_count": 3,
   "id": "ba3c6027",
   "metadata": {},
   "outputs": [
    {
     "data": {
      "text/html": [
       "<div>\n",
       "<style scoped>\n",
       "    .dataframe tbody tr th:only-of-type {\n",
       "        vertical-align: middle;\n",
       "    }\n",
       "\n",
       "    .dataframe tbody tr th {\n",
       "        vertical-align: top;\n",
       "    }\n",
       "\n",
       "    .dataframe thead th {\n",
       "        text-align: right;\n",
       "    }\n",
       "</style>\n",
       "<table border=\"1\" class=\"dataframe\">\n",
       "  <thead>\n",
       "    <tr style=\"text-align: right;\">\n",
       "      <th></th>\n",
       "      <th>proxy</th>\n",
       "      <th>port</th>\n",
       "      <th>user</th>\n",
       "      <th>pass</th>\n",
       "    </tr>\n",
       "  </thead>\n",
       "  <tbody>\n",
       "    <tr>\n",
       "      <th>0</th>\n",
       "      <td>38.154.227.167</td>\n",
       "      <td>5868</td>\n",
       "      <td>gjsdcfwd</td>\n",
       "      <td>ggp2nfhh3cg5</td>\n",
       "    </tr>\n",
       "    <tr>\n",
       "      <th>1</th>\n",
       "      <td>185.199.229.156</td>\n",
       "      <td>7492</td>\n",
       "      <td>gjsdcfwd</td>\n",
       "      <td>ggp2nfhh3cg5</td>\n",
       "    </tr>\n",
       "    <tr>\n",
       "      <th>2</th>\n",
       "      <td>185.199.228.220</td>\n",
       "      <td>7300</td>\n",
       "      <td>gjsdcfwd</td>\n",
       "      <td>ggp2nfhh3cg5</td>\n",
       "    </tr>\n",
       "    <tr>\n",
       "      <th>3</th>\n",
       "      <td>185.199.231.45</td>\n",
       "      <td>8382</td>\n",
       "      <td>gjsdcfwd</td>\n",
       "      <td>ggp2nfhh3cg5</td>\n",
       "    </tr>\n",
       "    <tr>\n",
       "      <th>4</th>\n",
       "      <td>188.74.210.207</td>\n",
       "      <td>6286</td>\n",
       "      <td>gjsdcfwd</td>\n",
       "      <td>ggp2nfhh3cg5</td>\n",
       "    </tr>\n",
       "    <tr>\n",
       "      <th>5</th>\n",
       "      <td>188.74.183.10</td>\n",
       "      <td>8279</td>\n",
       "      <td>gjsdcfwd</td>\n",
       "      <td>ggp2nfhh3cg5</td>\n",
       "    </tr>\n",
       "    <tr>\n",
       "      <th>6</th>\n",
       "      <td>188.74.210.21</td>\n",
       "      <td>6100</td>\n",
       "      <td>gjsdcfwd</td>\n",
       "      <td>ggp2nfhh3cg5</td>\n",
       "    </tr>\n",
       "    <tr>\n",
       "      <th>7</th>\n",
       "      <td>45.155.68.129</td>\n",
       "      <td>8133</td>\n",
       "      <td>gjsdcfwd</td>\n",
       "      <td>ggp2nfhh3cg5</td>\n",
       "    </tr>\n",
       "    <tr>\n",
       "      <th>8</th>\n",
       "      <td>154.95.36.199</td>\n",
       "      <td>6893</td>\n",
       "      <td>gjsdcfwd</td>\n",
       "      <td>ggp2nfhh3cg5</td>\n",
       "    </tr>\n",
       "    <tr>\n",
       "      <th>9</th>\n",
       "      <td>45.94.47.66</td>\n",
       "      <td>8110</td>\n",
       "      <td>gjsdcfwd</td>\n",
       "      <td>ggp2nfhh3cg5</td>\n",
       "    </tr>\n",
       "  </tbody>\n",
       "</table>\n",
       "</div>"
      ],
      "text/plain": [
       "             proxy  port      user          pass\n",
       "0   38.154.227.167  5868  gjsdcfwd  ggp2nfhh3cg5\n",
       "1  185.199.229.156  7492  gjsdcfwd  ggp2nfhh3cg5\n",
       "2  185.199.228.220  7300  gjsdcfwd  ggp2nfhh3cg5\n",
       "3   185.199.231.45  8382  gjsdcfwd  ggp2nfhh3cg5\n",
       "4   188.74.210.207  6286  gjsdcfwd  ggp2nfhh3cg5\n",
       "5    188.74.183.10  8279  gjsdcfwd  ggp2nfhh3cg5\n",
       "6    188.74.210.21  6100  gjsdcfwd  ggp2nfhh3cg5\n",
       "7    45.155.68.129  8133  gjsdcfwd  ggp2nfhh3cg5\n",
       "8    154.95.36.199  6893  gjsdcfwd  ggp2nfhh3cg5\n",
       "9      45.94.47.66  8110  gjsdcfwd  ggp2nfhh3cg5"
      ]
     },
     "execution_count": 3,
     "metadata": {},
     "output_type": "execute_result"
    }
   ],
   "source": [
    "proxies_df"
   ]
  },
  {
   "cell_type": "code",
   "execution_count": 4,
   "id": "8d4f80b5",
   "metadata": {},
   "outputs": [
    {
     "data": {
      "text/html": [
       "<div>\n",
       "<style scoped>\n",
       "    .dataframe tbody tr th:only-of-type {\n",
       "        vertical-align: middle;\n",
       "    }\n",
       "\n",
       "    .dataframe tbody tr th {\n",
       "        vertical-align: top;\n",
       "    }\n",
       "\n",
       "    .dataframe thead th {\n",
       "        text-align: right;\n",
       "    }\n",
       "</style>\n",
       "<table border=\"1\" class=\"dataframe\">\n",
       "  <thead>\n",
       "    <tr style=\"text-align: right;\">\n",
       "      <th></th>\n",
       "      <th>proxy</th>\n",
       "      <th>port</th>\n",
       "      <th>user</th>\n",
       "      <th>pass</th>\n",
       "    </tr>\n",
       "  </thead>\n",
       "  <tbody>\n",
       "    <tr>\n",
       "      <th>8</th>\n",
       "      <td>154.95.36.199</td>\n",
       "      <td>6893</td>\n",
       "      <td>gjsdcfwd</td>\n",
       "      <td>ggp2nfhh3cg5</td>\n",
       "    </tr>\n",
       "  </tbody>\n",
       "</table>\n",
       "</div>"
      ],
      "text/plain": [
       "           proxy  port      user          pass\n",
       "8  154.95.36.199  6893  gjsdcfwd  ggp2nfhh3cg5"
      ]
     },
     "execution_count": 4,
     "metadata": {},
     "output_type": "execute_result"
    }
   ],
   "source": [
    "random_proxy = proxies_df.sample()\n",
    "random_proxy"
   ]
  },
  {
   "cell_type": "code",
   "execution_count": 6,
   "id": "5365b5fa",
   "metadata": {},
   "outputs": [],
   "source": [
    "proxy = random_proxy['proxy'].values[0]\n",
    "port = random_proxy['port'].values[0]\n",
    "user = random_proxy['user'].values[0]\n",
    "password = random_proxy['pass'].values[0]\n"
   ]
  },
  {
   "cell_type": "code",
   "execution_count": 7,
   "id": "5db0c962",
   "metadata": {},
   "outputs": [
    {
     "name": "stdout",
     "output_type": "stream",
     "text": [
      "154.95.36.199 6893 gjsdcfwd ggp2nfhh3cg5\n"
     ]
    }
   ],
   "source": [
    "print(proxy,port,user,password)"
   ]
  },
  {
   "cell_type": "code",
   "execution_count": 8,
   "id": "efecdced",
   "metadata": {},
   "outputs": [],
   "source": [
    "def get_random_proxy(proxy):\n",
    "    # Replace 'your_file.csv' with the actual path to your CSV file\n",
    "    \n",
    "    random_proxy = proxy.sample(1)\n",
    "    return f\"{random_proxy['proxy'].values[0]}:{random_proxy['port'].values[0]}\"\n",
    "\n",
    "def page_soup(webdriver, url, proxy):\n",
    "    proxy_value = get_random_proxy(proxy)\n",
    "    # Extracting username and password from the proxy DataFrame\n",
    "    username = proxy_value['user'].values[0]\n",
    "    password = proxy_value['pass'].values[0]\n",
    "    \n",
    "    webdriver.DesiredCapabilities.EDGE['proxy'] = {\n",
    "        \"httpProxy\": f\"{username}:{password}@{proxy_value}\",\n",
    "        \"ftpProxy\": f\"{username}:{password}@{proxy_value}\",\n",
    "        \"sslProxy\": f\"{username}:{password}@{proxy_value}\",\n",
    "        \"proxyType\": \"MANUAL\"\n",
    "    }\n",
    "\n",
    "    driver = webdriver.Edge()\n",
    "    driver.get(url)\n",
    "    # Allow time for the page to load (you may need to adjust the sleep duration)\n",
    "    time.sleep(5)\n",
    "\n",
    "    # Get the updated HTML content after JavaScript has executed\n",
    "    html_content = driver.page_source\n",
    "\n",
    "    # Close the WebDriver\n",
    "    # driver.quit()\n",
    "\n",
    "    # Now you can use BeautifulSoup to parse the HTML as before\n",
    "    soup = BeautifulSoup(html_content, 'html.parser')\n",
    "\n",
    "    return soup\n",
    "\n"
   ]
  },
  {
   "cell_type": "code",
   "execution_count": 9,
   "id": "ebd7d1fb",
   "metadata": {},
   "outputs": [
    {
     "ename": "AttributeError",
     "evalue": "'str' object has no attribute 'sample'",
     "output_type": "error",
     "traceback": [
      "\u001b[0;31m---------------------------------------------------------------------------\u001b[0m",
      "\u001b[0;31mAttributeError\u001b[0m                            Traceback (most recent call last)",
      "\u001b[0;32m/tmp/ipykernel_20580/2444082880.py\u001b[0m in \u001b[0;36m<module>\u001b[0;34m\u001b[0m\n\u001b[1;32m     14\u001b[0m      \u001b[0;31m# Get the proxy for this iteration\u001b[0m\u001b[0;34m\u001b[0m\u001b[0;34m\u001b[0m\u001b[0m\n\u001b[1;32m     15\u001b[0m     \u001b[0;31m# Get the proxy for this iteration\u001b[0m\u001b[0;34m\u001b[0m\u001b[0;34m\u001b[0m\u001b[0m\n\u001b[0;32m---> 16\u001b[0;31m     \u001b[0mprox\u001b[0m \u001b[0;34m=\u001b[0m \u001b[0mget_random_proxy\u001b[0m\u001b[0;34m(\u001b[0m\u001b[0mproxy\u001b[0m\u001b[0;34m)\u001b[0m\u001b[0;34m\u001b[0m\u001b[0;34m\u001b[0m\u001b[0m\n\u001b[0m\u001b[1;32m     17\u001b[0m \u001b[0;34m\u001b[0m\u001b[0m\n\u001b[1;32m     18\u001b[0m     \u001b[0;31m#calling for first url with the proxy\u001b[0m\u001b[0;34m\u001b[0m\u001b[0;34m\u001b[0m\u001b[0m\n",
      "\u001b[0;32m/tmp/ipykernel_20580/2869412608.py\u001b[0m in \u001b[0;36mget_random_proxy\u001b[0;34m(proxy)\u001b[0m\n\u001b[1;32m      2\u001b[0m     \u001b[0;31m# Replace 'your_file.csv' with the actual path to your CSV file\u001b[0m\u001b[0;34m\u001b[0m\u001b[0;34m\u001b[0m\u001b[0m\n\u001b[1;32m      3\u001b[0m \u001b[0;34m\u001b[0m\u001b[0m\n\u001b[0;32m----> 4\u001b[0;31m     \u001b[0mrandom_proxy\u001b[0m \u001b[0;34m=\u001b[0m \u001b[0mproxy\u001b[0m\u001b[0;34m.\u001b[0m\u001b[0msample\u001b[0m\u001b[0;34m(\u001b[0m\u001b[0;36m1\u001b[0m\u001b[0;34m)\u001b[0m\u001b[0;34m\u001b[0m\u001b[0;34m\u001b[0m\u001b[0m\n\u001b[0m\u001b[1;32m      5\u001b[0m     \u001b[0;32mreturn\u001b[0m \u001b[0;34mf\"{random_proxy['proxy'].values[0]}:{random_proxy['port'].values[0]}\"\u001b[0m\u001b[0;34m\u001b[0m\u001b[0;34m\u001b[0m\u001b[0m\n\u001b[1;32m      6\u001b[0m \u001b[0;34m\u001b[0m\u001b[0m\n",
      "\u001b[0;31mAttributeError\u001b[0m: 'str' object has no attribute 'sample'"
     ]
    }
   ],
   "source": [
    "for row in range(criteria.shape[0]):\n",
    "    id_ = criteria.iloc[row, 0]\n",
    "    website = criteria.iloc[row, 1]\n",
    "    brand = criteria.iloc[row, 2]\n",
    "    model = criteria.iloc[row, 3]\n",
    "    price_from = criteria.iloc[row, 4]\n",
    "    price_to = criteria.iloc[row, 5]\n",
    "    year_from = criteria.iloc[row, 6]\n",
    "    year_to = criteria.iloc[row, 7]\n",
    "    #custom url creation\n",
    "    url = f'https://{website}/l/auto-s/{brand}/f/{model}/#PriceCentsFrom:{price_from}00|PriceCentsTo:{price_to}00|constructionYearFrom:{year_from}|constructionYearTo:{year_to}|sortBy:SORT_INDEX|sortOrder:DECREASING'\n",
    "#     print(url)\n",
    "    #calling for first url\n",
    "     # Get the proxy for this iteration\n",
    "    # Get the proxy for this iteration\n",
    "    prox = get_random_proxy(proxy)\n",
    "    \n",
    "    #calling for first url with the proxy\n",
    "    print(page_soup(webdriver, url, prox))\n",
    "    break\n",
    " "
   ]
  },
  {
   "cell_type": "code",
   "execution_count": 18,
   "id": "fb9efa40",
   "metadata": {},
   "outputs": [
    {
     "name": "stdout",
     "output_type": "stream",
     "text": [
      "Defaulting to user installation because normal site-packages is not writeable\n",
      "Collecting selenium-wire\n",
      "  Downloading selenium_wire-5.1.0-py3-none-any.whl (239 kB)\n",
      "\u001b[2K     \u001b[38;2;114;156;31m━━━━━━━━━━━━━━━━━━━━━━━━━━━━━━━━━━━━━\u001b[0m \u001b[32m239.6/239.6 KB\u001b[0m \u001b[31m868.8 kB/s\u001b[0m eta \u001b[36m0:00:00\u001b[0m[36m0:00:01\u001b[0mm eta \u001b[36m0:00:01\u001b[0m\n",
      "\u001b[?25hRequirement already satisfied: brotli>=1.0.9 in /usr/lib/python3/dist-packages (from selenium-wire) (1.0.9)\n",
      "Requirement already satisfied: certifi>=2019.9.11 in /home/autocrat/.local/lib/python3.10/site-packages (from selenium-wire) (2023.11.17)\n",
      "Requirement already satisfied: wsproto>=0.14 in /home/autocrat/.local/lib/python3.10/site-packages (from selenium-wire) (1.2.0)\n",
      "Collecting kaitaistruct>=0.7\n",
      "  Downloading kaitaistruct-0.10-py2.py3-none-any.whl (7.0 kB)\n",
      "Requirement already satisfied: pyparsing>=2.4.2 in /usr/lib/python3/dist-packages (from selenium-wire) (2.4.7)\n",
      "Requirement already satisfied: blinker>=1.4 in /usr/lib/python3/dist-packages (from selenium-wire) (1.4)\n",
      "Collecting pyOpenSSL>=22.0.0\n",
      "  Downloading pyOpenSSL-23.3.0-py3-none-any.whl (58 kB)\n",
      "\u001b[2K     \u001b[38;2;114;156;31m━━━━━━━━━━━━━━━━━━━━━━━━━━━━━━━━━━━━━━━━\u001b[0m \u001b[32m58.8/58.8 KB\u001b[0m \u001b[31m3.4 MB/s\u001b[0m eta \u001b[36m0:00:00\u001b[0m\n",
      "\u001b[?25hCollecting zstandard>=0.14.1\n",
      "  Downloading zstandard-0.22.0-cp310-cp310-manylinux_2_17_x86_64.manylinux2014_x86_64.whl (5.4 MB)\n",
      "\u001b[2K     \u001b[38;2;114;156;31m━━━━━━━━━━━━━━━━━━━━━━━━━━━━━━━━━━━━━━━━\u001b[0m \u001b[32m5.4/5.4 MB\u001b[0m \u001b[31m8.1 MB/s\u001b[0m eta \u001b[36m0:00:00\u001b[0mm eta \u001b[36m0:00:01\u001b[0m0:01\u001b[0m:01\u001b[0m\n",
      "\u001b[?25hRequirement already satisfied: pysocks>=1.7.1 in /usr/lib/python3/dist-packages (from selenium-wire) (1.7.1)\n",
      "Collecting h2>=4.0\n",
      "  Downloading h2-4.1.0-py3-none-any.whl (57 kB)\n",
      "\u001b[2K     \u001b[38;2;114;156;31m━━━━━━━━━━━━━━━━━━━━━━━━━━━━━━━━━━━━━━━━\u001b[0m \u001b[32m57.5/57.5 KB\u001b[0m \u001b[31m3.5 MB/s\u001b[0m eta \u001b[36m0:00:00\u001b[0m\n",
      "\u001b[?25hCollecting hyperframe>=6.0\n",
      "  Downloading hyperframe-6.0.1-py3-none-any.whl (12 kB)\n",
      "Requirement already satisfied: pyasn1>=0.3.1 in /home/autocrat/.local/lib/python3.10/site-packages (from selenium-wire) (0.5.0)\n",
      "Requirement already satisfied: selenium>=4.0.0 in /home/autocrat/.local/lib/python3.10/site-packages (from selenium-wire) (4.15.2)\n",
      "Collecting hpack<5,>=4.0\n",
      "  Downloading hpack-4.0.0-py3-none-any.whl (32 kB)\n",
      "Collecting cryptography<42,>=41.0.5\n",
      "  Downloading cryptography-41.0.5-cp37-abi3-manylinux_2_28_x86_64.whl (4.4 MB)\n",
      "\u001b[2K     \u001b[38;2;114;156;31m━━━━━━━━━━━━━━━━━━━━━━━━━━━━━━━━━━━━━━━━\u001b[0m \u001b[32m4.4/4.4 MB\u001b[0m \u001b[31m7.4 MB/s\u001b[0m eta \u001b[36m0:00:00\u001b[0mm eta \u001b[36m0:00:01\u001b[0m00:01\u001b[0m:01\u001b[0m\n",
      "\u001b[?25hRequirement already satisfied: urllib3[socks]<3,>=1.26 in /usr/lib/python3/dist-packages (from selenium>=4.0.0->selenium-wire) (1.26.5)\n",
      "Requirement already satisfied: trio-websocket~=0.9 in /home/autocrat/.local/lib/python3.10/site-packages (from selenium>=4.0.0->selenium-wire) (0.11.1)\n",
      "Requirement already satisfied: trio~=0.17 in /home/autocrat/.local/lib/python3.10/site-packages (from selenium>=4.0.0->selenium-wire) (0.23.1)\n",
      "Requirement already satisfied: h11<1,>=0.9.0 in /home/autocrat/.local/lib/python3.10/site-packages (from wsproto>=0.14->selenium-wire) (0.14.0)\n",
      "Collecting cffi>=1.12\n",
      "  Downloading cffi-1.16.0-cp310-cp310-manylinux_2_17_x86_64.manylinux2014_x86_64.whl (443 kB)\n",
      "\u001b[2K     \u001b[38;2;114;156;31m━━━━━━━━━━━━━━━━━━━━━━━━━━━━━━━━━━━━━━━\u001b[0m \u001b[32m443.9/443.9 KB\u001b[0m \u001b[31m7.2 MB/s\u001b[0m eta \u001b[36m0:00:00\u001b[0m[31m9.2 MB/s\u001b[0m eta \u001b[36m0:00:01\u001b[0m\n",
      "\u001b[?25hRequirement already satisfied: exceptiongroup>=1.0.0rc9 in /home/autocrat/.local/lib/python3.10/site-packages (from trio~=0.17->selenium>=4.0.0->selenium-wire) (1.2.0)\n",
      "Requirement already satisfied: attrs>=20.1.0 in /usr/lib/python3/dist-packages (from trio~=0.17->selenium>=4.0.0->selenium-wire) (21.2.0)\n",
      "Requirement already satisfied: idna in /usr/lib/python3/dist-packages (from trio~=0.17->selenium>=4.0.0->selenium-wire) (3.3)\n",
      "Requirement already satisfied: sniffio>=1.3.0 in /home/autocrat/.local/lib/python3.10/site-packages (from trio~=0.17->selenium>=4.0.0->selenium-wire) (1.3.0)\n",
      "Requirement already satisfied: sortedcontainers in /home/autocrat/.local/lib/python3.10/site-packages (from trio~=0.17->selenium>=4.0.0->selenium-wire) (2.4.0)\n",
      "Requirement already satisfied: outcome in /home/autocrat/.local/lib/python3.10/site-packages (from trio~=0.17->selenium>=4.0.0->selenium-wire) (1.3.0.post0)\n",
      "Collecting pycparser\n",
      "  Downloading pycparser-2.21-py2.py3-none-any.whl (118 kB)\n",
      "\u001b[2K     \u001b[38;2;114;156;31m━━━━━━━━━━━━━━━━━━━━━━━━━━━━━━━━━━━━━━━\u001b[0m \u001b[32m118.7/118.7 KB\u001b[0m \u001b[31m5.6 MB/s\u001b[0m eta \u001b[36m0:00:00\u001b[0m\n",
      "\u001b[?25hInstalling collected packages: zstandard, pycparser, kaitaistruct, hyperframe, hpack, h2, cffi, cryptography, pyOpenSSL, selenium-wire\n",
      "Successfully installed cffi-1.16.0 cryptography-41.0.5 h2-4.1.0 hpack-4.0.0 hyperframe-6.0.1 kaitaistruct-0.10 pyOpenSSL-23.3.0 pycparser-2.21 selenium-wire-5.1.0 zstandard-0.22.0\n"
     ]
    }
   ],
   "source": [
    "!pip install selenium-wire"
   ]
  },
  {
   "cell_type": "code",
   "execution_count": 10,
   "id": "8d1b3fb2",
   "metadata": {},
   "outputs": [],
   "source": [
    "from seleniumwire import webdriver\n",
    "\n",
    "options = {\n",
    "   'proxy': {\n",
    "       'http': f'http://{user}:{password}@{proxy}:{port}', \n",
    "       'https': f'https://{user}:{password}@{proxy}:{port}',\n",
    "       'no_proxy': 'localhost,127.0.0.1' # excludes\n",
    "   }\n",
    "}\n",
    "\n",
    "driver = webdriver.Edge(seleniumwire_options=options)\n",
    "# driver.get(url)\n",
    "\n",
    "# Allow time for the page to load (you may need to adjust the sleep duration)\n",
    "time.sleep(5)\n",
    "\n",
    "# Get the updated HTML content after JavaScript has executed\n",
    "html_content = driver.page_source\n"
   ]
  },
  {
   "cell_type": "code",
   "execution_count": 20,
   "id": "0a5332cb",
   "metadata": {},
   "outputs": [
    {
     "name": "stdout",
     "output_type": "stream",
     "text": [
      "Defaulting to user installation because normal site-packages is not writeable\n",
      "\u001b[31mERROR: Could not find a version that satisfies the requirement seleniumwire (from versions: none)\u001b[0m\u001b[31m\n",
      "\u001b[0m\u001b[31mERROR: No matching distribution found for seleniumwire\u001b[0m\u001b[31m\n",
      "\u001b[0m"
     ]
    }
   ],
   "source": [
    "proxy = random_row['proxy'].values[0]\n",
    "port = random_row['port'].values[0]\n",
    "user = random_row['user'].values[0]\n",
    "password = random_row['pass'].values[0]"
   ]
  },
  {
   "cell_type": "code",
   "execution_count": null,
   "id": "2dd011d4",
   "metadata": {},
   "outputs": [],
   "source": [
    "proxies_df"
   ]
  },
  {
   "cell_type": "code",
   "execution_count": null,
   "id": "cc31c88e",
   "metadata": {},
   "outputs": [],
   "source": []
  }
 ],
 "metadata": {
  "kernelspec": {
   "display_name": "Python 3 (ipykernel)",
   "language": "python",
   "name": "python3"
  },
  "language_info": {
   "codemirror_mode": {
    "name": "ipython",
    "version": 3
   },
   "file_extension": ".py",
   "mimetype": "text/x-python",
   "name": "python",
   "nbconvert_exporter": "python",
   "pygments_lexer": "ipython3",
   "version": "3.10.12"
  }
 },
 "nbformat": 4,
 "nbformat_minor": 5
}
