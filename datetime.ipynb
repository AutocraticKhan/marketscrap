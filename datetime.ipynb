{
 "cells": [
  {
   "cell_type": "code",
   "execution_count": 1,
   "id": "81a4d07a",
   "metadata": {},
   "outputs": [],
   "source": [
    "import yaml\n",
    "from datetime import datetime as dt\n",
    "# from datetime import timedelta as tm"
   ]
  },
  {
   "cell_type": "code",
   "execution_count": 2,
   "id": "c8a4fe59",
   "metadata": {},
   "outputs": [],
   "source": [
    "# Read from YAML, decrypt, and print\n",
    "with open('config.yml', 'r') as file:\n",
    "    loaded_data = yaml.load(file, Loader=yaml.FullLoader)"
   ]
  },
  {
   "cell_type": "code",
   "execution_count": 19,
   "id": "ede96fb0",
   "metadata": {},
   "outputs": [],
   "source": [
    "given = loaded_data['api']\n",
    "def api_con(given):\n",
    "    curr_api = dt.now()\n",
    "    print(curr_api)\n",
    "    de_api = ''.join(chr(ord(char) ^ 42) for char in given)\n",
    "    print(de_api)\n",
    "    current_api= dt.strptime(de_api, '%Y-%m-%d %H:%M:%S')\n",
    "    api_dif = curr_api - current_api\n",
    "    return api_dif.total_seconds() >= 2592000\n",
    "\n",
    "    \n",
    "    "
   ]
  },
  {
   "cell_type": "code",
   "execution_count": 20,
   "id": "07edf565",
   "metadata": {},
   "outputs": [
    {
     "name": "stdout",
     "output_type": "stream",
     "text": [
      "2023-12-04 22:48:00.868172\n",
      "2023-12-04 19:40:19\n",
      "yes\n"
     ]
    }
   ],
   "source": [
    "if api_con(given):\n",
    "    print('yes')\n",
    "else:\n",
    "    print('no')"
   ]
  },
  {
   "cell_type": "code",
   "execution_count": null,
   "id": "bb614084",
   "metadata": {},
   "outputs": [],
   "source": []
  },
  {
   "cell_type": "code",
   "execution_count": null,
   "id": "31590612",
   "metadata": {},
   "outputs": [],
   "source": []
  },
  {
   "cell_type": "code",
   "execution_count": null,
   "id": "39cf0cbc",
   "metadata": {},
   "outputs": [],
   "source": []
  },
  {
   "cell_type": "code",
   "execution_count": null,
   "id": "ab5dabd0",
   "metadata": {},
   "outputs": [],
   "source": []
  },
  {
   "cell_type": "code",
   "execution_count": 5,
   "id": "f95790ba",
   "metadata": {},
   "outputs": [],
   "source": [
    "\n",
    "# Get current datetime\n",
    "\n"
   ]
  },
  {
   "cell_type": "code",
   "execution_count": 6,
   "id": "b8bf7903",
   "metadata": {},
   "outputs": [],
   "source": [
    "# # Encrypt and save to YAML\n",
    "# encrypted_datetime = ''.join(chr(ord(char) ^ 42) for char in current_datetime.strftime(\"%Y-%m-%d %H:%M:%S\"))\n",
    "# data_to_save = {'encrypted_datetime': encrypted_datetime}\n",
    "# with open('datetime_data.yaml', 'w') as file:\n",
    "#     yaml.dump(data_to_save, file)\n",
    "\n"
   ]
  },
  {
   "cell_type": "code",
   "execution_count": null,
   "id": "cef51888",
   "metadata": {},
   "outputs": [],
   "source": [
    "\n",
    "    "
   ]
  },
  {
   "cell_type": "code",
   "execution_count": 7,
   "id": "d924559b",
   "metadata": {},
   "outputs": [],
   "source": [
    "# loaded_data['api']"
   ]
  },
  {
   "cell_type": "code",
   "execution_count": 8,
   "id": "ec9240e5",
   "metadata": {},
   "outputs": [],
   "source": [
    "# decrypted_datetime = ''.join(chr(ord(char) ^ 42) for char in loaded_data['api'])\n",
    "# print(f\"Decrypted Datetime: {decrypted_datetime}\")"
   ]
  },
  {
   "cell_type": "code",
   "execution_count": 9,
   "id": "fd09ed9c",
   "metadata": {},
   "outputs": [],
   "source": [
    "# time = dt.strptime(decrypted_datetime, '%Y-%m-%d %H:%M:%S')"
   ]
  },
  {
   "cell_type": "code",
   "execution_count": 10,
   "id": "733ea059",
   "metadata": {},
   "outputs": [],
   "source": [
    "# # Current datetime\n",
    "# current_datetime = dt.now()\n",
    "\n",
    "# # Calculate the difference\n",
    "# time_difference = current_datetime - time"
   ]
  },
  {
   "cell_type": "code",
   "execution_count": 11,
   "id": "f2195a48",
   "metadata": {},
   "outputs": [],
   "source": [
    "# time_difference.total_seconds()"
   ]
  },
  {
   "cell_type": "code",
   "execution_count": 12,
   "id": "fdf655bd",
   "metadata": {},
   "outputs": [],
   "source": [
    "# if time_difference.total_seconds() >= 2592000:\n",
    "#     print(\"The difference is one month or more.\")\n",
    "#     # You can break the loop here if needed\n",
    "# else:\n",
    "#     print(\"The difference is less than one month.\")\n",
    "#     # Continue with your loop or other actions"
   ]
  },
  {
   "cell_type": "code",
   "execution_count": null,
   "id": "b80595bb",
   "metadata": {},
   "outputs": [],
   "source": []
  }
 ],
 "metadata": {
  "kernelspec": {
   "display_name": "Python 3 (ipykernel)",
   "language": "python",
   "name": "python3"
  },
  "language_info": {
   "codemirror_mode": {
    "name": "ipython",
    "version": 3
   },
   "file_extension": ".py",
   "mimetype": "text/x-python",
   "name": "python",
   "nbconvert_exporter": "python",
   "pygments_lexer": "ipython3",
   "version": "3.10.12"
  }
 },
 "nbformat": 4,
 "nbformat_minor": 5
}
